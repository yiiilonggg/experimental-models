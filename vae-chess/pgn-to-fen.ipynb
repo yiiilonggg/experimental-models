{
 "cells": [
  {
   "cell_type": "code",
   "execution_count": 1,
   "metadata": {},
   "outputs": [],
   "source": [
    "import os\n",
    "import io\n",
    "import chess.pgn as pgn"
   ]
  },
  {
   "cell_type": "code",
   "execution_count": 2,
   "metadata": {},
   "outputs": [],
   "source": [
    "DIR = os.path.dirname(__vsc_ipynb_file__)\n",
    "raw_data_path = os.path.join(DIR, \"data\", \"raw-data.pgn\")"
   ]
  },
  {
   "cell_type": "code",
   "execution_count": 3,
   "metadata": {},
   "outputs": [],
   "source": [
    "output = open('data/fen-data.txt', 'w')\n",
    "\n",
    "with open(raw_data_path) as file:\n",
    "    for line in file:\n",
    "        game = pgn.Game()\n",
    "        board = game.board()\n",
    "        moves = pgn.read_game(io.StringIO(line))\n",
    "        try:\n",
    "            for move in moves.mainline_moves():\n",
    "                output.write(board.fen() + \"\\n\")\n",
    "                board.push(move)\n",
    "            output.write(board.fen() + \"\\n\")\n",
    "        except AttributeError:\n",
    "            continue"
   ]
  },
  {
   "cell_type": "code",
   "execution_count": null,
   "metadata": {},
   "outputs": [],
   "source": []
  }
 ],
 "metadata": {
  "kernelspec": {
   "display_name": "Python 3",
   "language": "python",
   "name": "python3"
  },
  "language_info": {
   "codemirror_mode": {
    "name": "ipython",
    "version": 3
   },
   "file_extension": ".py",
   "mimetype": "text/x-python",
   "name": "python",
   "nbconvert_exporter": "python",
   "pygments_lexer": "ipython3",
   "version": "3.9.9"
  },
  "orig_nbformat": 4
 },
 "nbformat": 4,
 "nbformat_minor": 2
}
